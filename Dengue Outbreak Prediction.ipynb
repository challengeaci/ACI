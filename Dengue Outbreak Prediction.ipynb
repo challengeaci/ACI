{
 "cells": [
  {
   "cell_type": "code",
   "execution_count": 7,
   "metadata": {
    "collapsed": true
   },
   "outputs": [],
   "source": [
    "import pandas as pd\n",
    "import numpy as np \n",
    "import seaborn as sns\n",
    "import random\n",
    "import matplotlib.pyplot as plt\n",
    "import math\n",
    "\n",
    "\n",
    "%matplotlib inline\n",
    "\n"
   ]
  },
  {
   "cell_type": "code",
   "execution_count": 112,
   "metadata": {
    "collapsed": true
   },
   "outputs": [],
   "source": [
    "AvgTemperature17=[]\n",
    "AvgTemperature16=[]\n",
    "\n",
    "\n",
    "AvgHumidity17=[]\n",
    "AvgHumidity16=[]\n",
    "\n",
    "Rainfall17=[]\n",
    "Rainfall16=[]\n",
    "\n",
    "Altitude=[]\n",
    "\n",
    "\n",
    "\n",
    "Dengue_Cases16=[]\n",
    "Dengue_Cases17=[]\n",
    "\n",
    "Area=[]\n",
    "\n",
    "Months=[]"
   ]
  },
  {
   "cell_type": "code",
   "execution_count": 113,
   "metadata": {},
   "outputs": [
    {
     "data": {
      "text/plain": [
       "False"
      ]
     },
     "execution_count": 113,
     "metadata": {},
     "output_type": "execute_result"
    }
   ],
   "source": [
    "# Considering the no.of areas to be 10\n",
    "Area=[]\n",
    "random.seed(1)\n",
    "\n",
    "for i in range(0,10000):\n",
    "    Area.append(math.ceil(random.uniform(0,10)))\n",
    "    \n",
    "    \n",
    "0 in area"
   ]
  },
  {
   "cell_type": "code",
   "execution_count": 114,
   "metadata": {
    "collapsed": true
   },
   "outputs": [],
   "source": [
    "areacount=[0,0,0,0,0,0,0,0,0,0]\n",
    "for i in range(0,10000):\n",
    "    if Area[i]==1:\n",
    "        areacount[0]=areacount[0]+1\n",
    "        \n",
    "    elif Area[i]==2:\n",
    "        areacount[1]=areacount[1]+1\n",
    "        \n",
    "    elif Area[i]==3:\n",
    "        areacount[2]=areacount[2]+1\n",
    "        \n",
    "    elif Area[i]==4:\n",
    "        areacount[3]=areacount[3]+1\n",
    "        \n",
    "    elif Area[i]==5:\n",
    "        areacount[4]=areacount[4]+1\n",
    "        \n",
    "    elif Area[i]==6:\n",
    "        areacount[5]=areacount[5]+1\n",
    "        \n",
    "    elif Area[i]==7:\n",
    "        areacount[6]=areacount[6]+1\n",
    "        \n",
    "    elif Area[i]==8:\n",
    "        areacount[7]=areacount[7]+1\n",
    "        \n",
    "    elif Area[i]==9:\n",
    "        areacount[8]=areacount[8]+1\n",
    "        \n",
    "    elif Area[i]==10:\n",
    "        areacount[9]=areacount[9]+1\n",
    "        \n",
    "        \n",
    "        \n",
    "        \n",
    "        \n",
    "        \n"
   ]
  },
  {
   "cell_type": "code",
   "execution_count": 115,
   "metadata": {},
   "outputs": [
    {
     "data": {
      "text/plain": [
       "[1041, 1017, 957, 1026, 982, 998, 997, 962, 987, 1033]"
      ]
     },
     "execution_count": 115,
     "metadata": {},
     "output_type": "execute_result"
    }
   ],
   "source": [
    "areacount"
   ]
  },
  {
   "cell_type": "code",
   "execution_count": 116,
   "metadata": {
    "collapsed": true
   },
   "outputs": [],
   "source": [
    "random.seed(2)\n",
    "Altitude=[]\n",
    "\n",
    "for i in range(0,10000):\n",
    "    if area[i]==1:\n",
    "        Altitude.append(920)#banglore\n",
    "        \n",
    "        \n",
    "    elif Area[i]==2:\n",
    "        Altitude.append(505)#hyd\n",
    "        \n",
    "    elif Area[i]==3:\n",
    "        Altitude.append(81)#gujarat\n",
    "        \n",
    "    elif Area[i]==4:\n",
    "        Altitude.append(14)#maharashtra\n",
    "        \n",
    "    elif Area[i]==5:\n",
    "        Altitude.append(1022)#goa\n",
    "        \n",
    "    elif Area[i]==6:\n",
    "        Altitude.append(6.7)#tn\n",
    "        \n",
    "    elif Area[i]==7:\n",
    "        Altitude.append(290)#assam\n",
    "        \n",
    "    elif Area[i]==8:\n",
    "        Altitude.append(2600)#kufri\n",
    "        \n",
    "    elif Area[i]==9:\n",
    "        Altitude.append(527)#mp\n",
    "        \n",
    "    elif Area[i]==10:\n",
    "        Altitude.append(2006)#mussori\n",
    "    \n",
    "    "
   ]
  },
  {
   "cell_type": "code",
   "execution_count": 117,
   "metadata": {},
   "outputs": [
    {
     "data": {
      "text/plain": [
       "[505, 527, 2600, 81, 1022, 1022, 290, 2600, 920, 920]"
      ]
     },
     "execution_count": 117,
     "metadata": {},
     "output_type": "execute_result"
    }
   ],
   "source": [
    "Altitude[0:10]"
   ]
  },
  {
   "cell_type": "code",
   "execution_count": 123,
   "metadata": {
    "collapsed": true
   },
   "outputs": [],
   "source": [
    "temp17={'banglore':[25,28,31,33,31,26,26,26,25,26,25,24],'hyd':[26,30,33,37,34,28,30,29,29,29,27,26],'gujarat':[25,29,33,36,36,33,31,32,32,34,29,25],'maharashtra':[29,29,32,33,33,32,30,30,30,31,32,31],'goa':[30,31,31,32,30,27,30,30,28,28,29,28],'tn':[28,28,31,33,33,31,33,33,31,30,28,27],'assam':[22,25,26,29,27,28,30,32,30,28,24,22],'kufri':[10,15,17,24,18,19,26,25,23,21,17,14],'mp':[22,26,31,36,36,31,28,29,28,29,25,22],'mussori':[12,17,20,27,20,20,27,26,22,20,16,14]}\n",
    "\n",
    "temp16={'banglore':[25,27,30,32,27,24,26,26,25,25,24,23],'hyd':[26,30,33,37,36,31,28,28,27,27,26,26],'gujarat':[27,29,34,36,39,37,32,30,31,32,30,27],'maharashtra':[29,31,32,33,31,29,30,31,29,31,31,28],'goa':[30,30,32,32,33,30,29,29,29,30,31,30],'tn':[28,29,31,33,34,33,33,33,32,31,29,28],'assam':[19,24,29,30,31,31,29,32,30,28,25,22],'kufri':[11,15,18,24,27,28,26,25,24,21,17,14],'mp':[23,27,32,36,38,36,29,26,28,28,26,23],'mussori':[13,17,21,27,30,30,26,26,26,23,19,16]}"
   ]
  },
  {
   "cell_type": "code",
   "execution_count": 124,
   "metadata": {},
   "outputs": [
    {
     "name": "stdout",
     "output_type": "stream",
     "text": [
      "22\n"
     ]
    }
   ],
   "source": [
    "placesnames=['banglore','hyd','gujarat','maharashtra','goa','tn','assam','kufri','mp','mussori']\n",
    "\n",
    "print(places['hyd'][11])"
   ]
  },
  {
   "cell_type": "code",
   "execution_count": 125,
   "metadata": {
    "collapsed": true
   },
   "outputs": [],
   "source": [
    "Months=[]\n",
    "\n",
    "random.seed(4)\n",
    "\n",
    "for i in range(0,10000):\n",
    "    \n",
    "    Months.append(math.ceil(random.uniform(1,12)))\n"
   ]
  },
  {
   "cell_type": "code",
   "execution_count": 126,
   "metadata": {},
   "outputs": [
    {
     "data": {
      "text/plain": [
       "False"
      ]
     },
     "execution_count": 126,
     "metadata": {},
     "output_type": "execute_result"
    }
   ],
   "source": [
    "0 in months"
   ]
  },
  {
   "cell_type": "code",
   "execution_count": 127,
   "metadata": {
    "collapsed": true
   },
   "outputs": [],
   "source": [
    "AvgTemperature17=[]\n",
    "\n",
    "for i in range(0,10000):\n",
    "        \n",
    "    for j in range(0,10):\n",
    "                \n",
    "        if Area[i]==j+1:\n",
    "                        \n",
    "            for k in range(0,12):\n",
    "                                \n",
    "                if Months[i]==k+1:\n",
    "                    \n",
    "                    #print(\"{}     {}    {}\".format(i,j+1,k+1))\n",
    "                    AvgTemperature17.append(temp17[placesnames[j]][k])\n",
    "                    \n",
    "                    \n",
    "                    \n",
    "AvgTemperature16=[]\n",
    "\n",
    "for i in range(0,10000):\n",
    "        \n",
    "    for j in range(0,10):\n",
    "                \n",
    "        if Area[i]==j+1:\n",
    "                        \n",
    "            for k in range(0,12):\n",
    "                                \n",
    "                if Months[i]==k+1:\n",
    "                    \n",
    "                    #print(\"{}     {}    {}\".format(i,j+1,k+1))\n",
    "                    AvgTemperature16.append(temp16[placesnames[j]][k])\n",
    "                    \n",
    "                    \n",
    "                    \n",
    "            \n",
    "        \n",
    "        \n",
    "        \n",
    "            \n",
    "        \n",
    "            \n",
    "            \n",
    "    \n",
    "    "
   ]
  },
  {
   "cell_type": "code",
   "execution_count": null,
   "metadata": {
    "collapsed": true
   },
   "outputs": [],
   "source": []
  },
  {
   "cell_type": "code",
   "execution_count": 128,
   "metadata": {
    "collapsed": true
   },
   "outputs": [],
   "source": [
    "rainfall17={'banglore':[8.2,0,48.1,19.9,230.3,203.2,58,266.2,493.7,433.4,74.2,26.4],'hyd':[0.1,0,10.8,3.3,11.5,163.3,66.4,212.5,282,362,2.6,0],'gujarat':[1.7,0,0,0.1,0.4,130.6,544.3,177.9,30.5,0,0,8.9],'maharashtra':[0,0,1,0,26,742.6,1117.9,559.4,179.6,130.6,0,32.5],'goa':[0,0,0.9,1.2,90,1072.4,1380,696.84,413.2,147.3,2.4,6],'tn':[9.9,1,12,0.2,5.7,87.5,92.9,155.4,124.9,333,832.8,35.4],'assam':[2,32.9,116.7,246.3,241.6,808.8,686.1,668.3,827.9,433.1,8.1,3.4],'kufri':[69.9,29.7,69,94.8,112.6,196.4,482.6,304,135.3,0,0.8,64.8],'mp':[2.4,3.4,0.1,0.5,12.7,138.6,325.4,235.5,319.6,14.9,3.9,0.1],'mussori':[69.1,19,39.4,88.5,142.1,227.2,914.7,700.7,303.4,0,14.7,80.3]}\n",
    "\n",
    "rainfall16={'banglore':[10.6,0,5.61,6.88,95.87,176.4,231.28,88.73,97.13,48.49,6.3,48.4],'hyd':[3.89,0,5.99,0,62.38,284.46,191.75,83.86,138.67,32.7,0.1,1.4],'gujarat':[0,0,0.8,0,1.8,33.4,267.67,345.33,14.86,81.2,0,0],'maharashtra':[0,0.2,4.19,0,13.41,793.27,1546.09,794.36,601.7,89.93,0,0.5],'goa':[1,0,0,0.8,30.75,1144.62,1327.66,1012.33,530.86,60.2,5.2,25.2],'tn':[7.01,0.59,0.1,0.1,261.15,130.15,115.79,106.15,183.81,73.08,17.6,194.2],'assam':[25.39,4.83,28.73,199.54,369.52,624.6,771.39,370.15,483.8,194.15,6,8.2],'kufri':[5.01,37.09,79.68,38.59,170.8,172.81,358.96,382.85,49.89,0.1,0,2.3],'mp':[6.49,0.5,9.7,0.6,7.49,139.83,404.35,558.62,123.3,93.48,0,0],'mussori':[3,27.3,68.14,24.61,180.92,423.26,902.6,820.73,164.36,12.59,0,2.7]}"
   ]
  },
  {
   "cell_type": "code",
   "execution_count": 129,
   "metadata": {
    "collapsed": true
   },
   "outputs": [],
   "source": [
    "Rainfall17=[]\n",
    "\n",
    "for i in range(0,10000):\n",
    "    for j in range(0,10):\n",
    "        if Area[i]==j+1:\n",
    "            \n",
    "            for k in range(0,12):\n",
    "                \n",
    "                if Months[i]==k+1:\n",
    "                    \n",
    "                    Rainfall17.append(rainfall17[placesnames[j]][k])\n",
    "                    \n",
    "    \n",
    "Rainfall16=[]\n",
    "\n",
    "for i in range(0,10000):\n",
    "    for j in range(0,10):\n",
    "        if Area[i]==j+1:\n",
    "            \n",
    "            for k in range(0,12):\n",
    "                \n",
    "                if Months[i]==k+1:\n",
    "                    \n",
    "                    Rainfall16.append(rainfall16[placesnames[j]][k])\n",
    "            \n",
    "            "
   ]
  },
  {
   "cell_type": "code",
   "execution_count": null,
   "metadata": {
    "collapsed": true
   },
   "outputs": [],
   "source": []
  },
  {
   "cell_type": "code",
   "execution_count": 131,
   "metadata": {
    "collapsed": true
   },
   "outputs": [],
   "source": [
    "humidity17={'banglore':[62,45,49,45,71,79,67,74,74,76,74,68],'hyd':[44,34,33,23,45,83,60,66,64,57,49,40],'gujarat':[37,25,21,26,40,59,74,66,59,30,27,33],'maharashtra':[53,51,57,65,74,81,82,79,77,66,51,56],'goa':[55,62,64,71,75,83,82,81,80,78,59,57],'tn':[70,69,72,70,64,63,58,63,66,70,76,71],'assam':[61,54,61,74,80,86,88,80,80,79,72,70],'kufri':[53,40,38,31,53,74,79,80,67,40,36,34],'mp':[46,29,18,13,26,60,78,79,75,45,37,36],'mussori':[47,40,32,29,55,72,81,83,72,51,45,35]}\n",
    "\n",
    "humidity16={'banglore':[62,50,44,42,57,75,76,75,80,69,63,66],'hyd':[47,41,36,27,35,62,76,73,82,69,49,47],'gujarat':[33,23,23,27,33,46,70,81,68,52,29,32],'maharashtra':[51,59,58,66,76,80,85,86,83,73,52,51],'goa':[56,63,67,70,74,79,86,85,83,73,56,53],'tn':[67,71,69,70,67,63,61,62,68,66,69,72],'assam':[77,62,49,75,78,87,94,85,88,82,79,75],'kufri':[42,41,43,30,39,54,79,84,65,32,25,35],'mp':[38,28,22,14,22,41,80,91,80,55,32,37],'mussori':[42,39,36,24,38,60,85,85,71,44,31,41]}"
   ]
  },
  {
   "cell_type": "code",
   "execution_count": 134,
   "metadata": {
    "collapsed": true
   },
   "outputs": [],
   "source": [
    "AvgHumidity17=[]\n",
    "\n",
    "for i in range(0,10000):\n",
    "    for j in range(0,10):\n",
    "        if Area[i]==j+1:\n",
    "            \n",
    "            for k in range(0,12):\n",
    "                \n",
    "                if Months[i]==k+1:\n",
    "                    \n",
    "                    AvgHumidity17.append(humidity17[placesnames[j]][k])\n",
    "                    \n",
    "                    \n",
    "                    \n",
    "AvgHumidity16=[]\n",
    "\n",
    "for i in range(0,10000):\n",
    "    for j in range(0,10):\n",
    "        if Area[i]==j+1:\n",
    "            \n",
    "            for k in range(0,12):\n",
    "                \n",
    "                if Months[i]==k+1:\n",
    "                    \n",
    "                    AvgHumidity16.append(humidity16[placesnames[j]][k])"
   ]
  },
  {
   "cell_type": "code",
   "execution_count": null,
   "metadata": {
    "collapsed": true
   },
   "outputs": [],
   "source": []
  },
  {
   "cell_type": "code",
   "execution_count": 136,
   "metadata": {
    "collapsed": true
   },
   "outputs": [],
   "source": [
    "DengueCases17={'banglore':[300,180,120,120,60,540,900,1380,1320,300,480,120],'hyd':[144,54,33,35,18,165,272,414,396,90,142,38],'gujarat':[128,48,32,32,16,144,240,345,352,80,128,32],'maharashtra':[220,80,53,54,27,243,405,621,594,135,216,54],'goa':[8,3,2,2,1,9,15,23,22,5,8,2],'tn':[640,240,162,163,88,734,1223,1854,1802,403,644,165],'assam':[136,51,34,34,17,153,255,391,374,85,136,34],'kufri':[12,5,3,3,2,14,23,35,33,8,12,3],'mp':[72,27,18,18,9,81,135,207,198,45,72,18],'mussori':[24,9,6,6,3,27,45,69,66,15,24,6]}\n",
    "\n",
    "DengueCases16={'banglore':[168,63,44,45,23,188,315,483,462,105,168,44],'hyd':[112,43,28,28,14,122,210,322,308,70,112,28],'gujarat':[224,84,56,56,28,258,428,644,616,140,224,56],'maharashtra':[184,69,46,46,23,207,345,528,505,115,184,46],'goa':[4,2,1,1,0,5,8,12,11,3,4,1],'tn':[72,27,18,18,9,81,135,207,198,45,72,18],'assam':[168,63,42,42,21,189,315,483,462,105,168,42],'kufri':[8,3,2,2,1,9,15,23,22,5,8,2],'mp':[88,33,22,22,11,99,165,253,242,55,88,22],'mussori':[56,21,14,14,7,63,105,161,154,35,56,14]}\n"
   ]
  },
  {
   "cell_type": "code",
   "execution_count": 137,
   "metadata": {
    "collapsed": true
   },
   "outputs": [],
   "source": [
    "\n",
    "\n",
    "Dengue_Cases17=[]\n",
    "\n",
    "\n",
    "\n",
    "for i in range(0,10000):\n",
    "    \n",
    "    for j in range(0,10):\n",
    "        \n",
    "        if Area[i]==j+1:\n",
    "            \n",
    "            for k in range(0,12):\n",
    "                \n",
    "                if Months[i]==k+1:\n",
    "                    \n",
    "                    Dengue_Cases17.append(DengueCases17[placesnames[j]][k])\n",
    "                    \n",
    "                    \n",
    "                    \n",
    "Dengue_Cases16=[]\n",
    "\n",
    "\n",
    "\n",
    "for i in range(0,10000):\n",
    "    \n",
    "    for j in range(0,10):\n",
    "        \n",
    "        if Area[i]==j+1:\n",
    "            \n",
    "            for k in range(0,12):\n",
    "                \n",
    "                if Months[i]==k+1:\n",
    "                    \n",
    "                    Dengue_Cases16.append(DengueCases16[placesnames[j]][k])"
   ]
  },
  {
   "cell_type": "code",
   "execution_count": 100,
   "metadata": {},
   "outputs": [
    {
     "data": {
      "text/plain": [
       "[42, 3, 1, 40, 7, 18, 20, 2, 300, 120]"
      ]
     },
     "execution_count": 100,
     "metadata": {},
     "output_type": "execute_result"
    }
   ],
   "source": [
    "\n",
    "\n"
   ]
  },
  {
   "cell_type": "code",
   "execution_count": null,
   "metadata": {
    "collapsed": true
   },
   "outputs": [],
   "source": [
    "\n",
    "\n",
    "\n",
    "\n",
    "dengueCurr={'banglore':[300,180,120,120,60,540,900,1380,1320,300,480,120],'hyd':[230,69,44,42,23,197,335,531,501,110,184,44],'gujarat':[80,50,40,40,10,160,180,310,410,80,130,30],'maharashtra':[220,80,30,40,20,200,310,480,450,140,140,50],'goa':[16,7,5,4,2,18,31,48,44,10,16,4],'tn':[640,240,162,163,88,734,1223,1854,1802,403,644,165],'assam':[60,30,10,20,10,100,180,210,220,50,120,20],'kufri':[0,0,0,0,1,1,0,2,2,2,3,1],'mp':[8,4,3,3,2,13,15,25,31,12,12,3],'mussori':[0,0,0,0,0,0,1,2,3,2,1,0]}\n"
   ]
  },
  {
   "cell_type": "code",
   "execution_count": 138,
   "metadata": {
    "collapsed": true
   },
   "outputs": [],
   "source": [
    "FeatureColumns={'Area':Area,'Month':Months,'Avg_Temperature_16':AvgTemperature16,'Avg_Temperature_17':AvgTemperature17,'Rainfall_16':Rainfall16,'Rainfall_17':Rainfall17,'Altitude':Altitude,'Avg_Humidity_16':AvgHumidity16,'Avg_Humidity_17':AvgHumidity17,'Dengue_Cases_16':Dengue_Cases16,'Dengue_Cases_17':Dengue_Cases17}"
   ]
  },
  {
   "cell_type": "code",
   "execution_count": 139,
   "metadata": {
    "collapsed": true
   },
   "outputs": [],
   "source": [
    "DengueForecastData=pd.DataFrame(FeatureColumns)"
   ]
  },
  {
   "cell_type": "code",
   "execution_count": 142,
   "metadata": {},
   "outputs": [
    {
     "data": {
      "text/html": [
       "<div>\n",
       "<style scoped>\n",
       "    .dataframe tbody tr th:only-of-type {\n",
       "        vertical-align: middle;\n",
       "    }\n",
       "\n",
       "    .dataframe tbody tr th {\n",
       "        vertical-align: top;\n",
       "    }\n",
       "\n",
       "    .dataframe thead th {\n",
       "        text-align: right;\n",
       "    }\n",
       "</style>\n",
       "<table border=\"1\" class=\"dataframe\">\n",
       "  <thead>\n",
       "    <tr style=\"text-align: right;\">\n",
       "      <th></th>\n",
       "      <th>Area</th>\n",
       "      <th>Month</th>\n",
       "      <th>Avg_Temperature_16</th>\n",
       "      <th>Avg_Temperature_17</th>\n",
       "      <th>Rainfall_16</th>\n",
       "      <th>Rainfall_17</th>\n",
       "      <th>Altitude</th>\n",
       "      <th>Avg_Humidity_16</th>\n",
       "      <th>Avg_Humidity_17</th>\n",
       "      <th>Dengue_Cases_16</th>\n",
       "      <th>Dengue_Cases_17</th>\n",
       "    </tr>\n",
       "  </thead>\n",
       "  <tbody>\n",
       "    <tr>\n",
       "      <th>0</th>\n",
       "      <td>2</td>\n",
       "      <td>4</td>\n",
       "      <td>37</td>\n",
       "      <td>37</td>\n",
       "      <td>0.00</td>\n",
       "      <td>3.3</td>\n",
       "      <td>505.0</td>\n",
       "      <td>27</td>\n",
       "      <td>23</td>\n",
       "      <td>28</td>\n",
       "      <td>35</td>\n",
       "    </tr>\n",
       "    <tr>\n",
       "      <th>1</th>\n",
       "      <td>9</td>\n",
       "      <td>3</td>\n",
       "      <td>32</td>\n",
       "      <td>31</td>\n",
       "      <td>9.70</td>\n",
       "      <td>0.1</td>\n",
       "      <td>527.0</td>\n",
       "      <td>22</td>\n",
       "      <td>18</td>\n",
       "      <td>22</td>\n",
       "      <td>18</td>\n",
       "    </tr>\n",
       "    <tr>\n",
       "      <th>2</th>\n",
       "      <td>8</td>\n",
       "      <td>6</td>\n",
       "      <td>28</td>\n",
       "      <td>19</td>\n",
       "      <td>172.81</td>\n",
       "      <td>196.4</td>\n",
       "      <td>2600.0</td>\n",
       "      <td>54</td>\n",
       "      <td>74</td>\n",
       "      <td>9</td>\n",
       "      <td>14</td>\n",
       "    </tr>\n",
       "    <tr>\n",
       "      <th>3</th>\n",
       "      <td>3</td>\n",
       "      <td>3</td>\n",
       "      <td>34</td>\n",
       "      <td>33</td>\n",
       "      <td>0.80</td>\n",
       "      <td>0.0</td>\n",
       "      <td>81.0</td>\n",
       "      <td>23</td>\n",
       "      <td>21</td>\n",
       "      <td>56</td>\n",
       "      <td>32</td>\n",
       "    </tr>\n",
       "    <tr>\n",
       "      <th>4</th>\n",
       "      <td>5</td>\n",
       "      <td>2</td>\n",
       "      <td>30</td>\n",
       "      <td>31</td>\n",
       "      <td>0.00</td>\n",
       "      <td>0.0</td>\n",
       "      <td>1022.0</td>\n",
       "      <td>63</td>\n",
       "      <td>62</td>\n",
       "      <td>2</td>\n",
       "      <td>3</td>\n",
       "    </tr>\n",
       "  </tbody>\n",
       "</table>\n",
       "</div>"
      ],
      "text/plain": [
       "   Area  Month  Avg_Temperature_16  Avg_Temperature_17  Rainfall_16  \\\n",
       "0     2      4                  37                  37         0.00   \n",
       "1     9      3                  32                  31         9.70   \n",
       "2     8      6                  28                  19       172.81   \n",
       "3     3      3                  34                  33         0.80   \n",
       "4     5      2                  30                  31         0.00   \n",
       "\n",
       "   Rainfall_17  Altitude  Avg_Humidity_16  Avg_Humidity_17  Dengue_Cases_16  \\\n",
       "0          3.3     505.0               27               23               28   \n",
       "1          0.1     527.0               22               18               22   \n",
       "2        196.4    2600.0               54               74                9   \n",
       "3          0.0      81.0               23               21               56   \n",
       "4          0.0    1022.0               63               62                2   \n",
       "\n",
       "   Dengue_Cases_17  \n",
       "0               35  \n",
       "1               18  \n",
       "2               14  \n",
       "3               32  \n",
       "4                3  "
      ]
     },
     "execution_count": 142,
     "metadata": {},
     "output_type": "execute_result"
    }
   ],
   "source": [
    "DengueForecastData.head()"
   ]
  },
  {
   "cell_type": "code",
   "execution_count": 144,
   "metadata": {
    "collapsed": true
   },
   "outputs": [],
   "source": [
    "DengueForecastData.to_csv('DengueData.csv')"
   ]
  },
  {
   "cell_type": "code",
   "execution_count": null,
   "metadata": {
    "collapsed": true
   },
   "outputs": [],
   "source": []
  }
 ],
 "metadata": {
  "kernelspec": {
   "display_name": "Python 3",
   "language": "python",
   "name": "python3"
  },
  "language_info": {
   "codemirror_mode": {
    "name": "ipython",
    "version": 3
   },
   "file_extension": ".py",
   "mimetype": "text/x-python",
   "name": "python",
   "nbconvert_exporter": "python",
   "pygments_lexer": "ipython3",
   "version": "3.6.3"
  }
 },
 "nbformat": 4,
 "nbformat_minor": 2
}
